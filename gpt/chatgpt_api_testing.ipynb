{
 "cells": [
  {
   "cell_type": "code",
   "execution_count": 1,
   "metadata": {},
   "outputs": [],
   "source": [
    "import os\n",
    "import io\n",
    "from contextlib import redirect_stdout\n",
    "import warnings\n",
    "import re\n",
    "import time\n",
    "import random\n",
    "\n",
    "from pgmpy.base import DAG\n",
    "from pgmpy.models import BayesianModel\n",
    "from pgmpy.estimators import PC, HillClimbSearch, BicScore\n",
    "from pgmpy.factors.discrete.CPD import TabularCPD\n",
    "from pgmpy.metrics.metrics import correlation_score, log_likelihood_score, structure_score\n",
    "from pgmpy.estimators import MaximumLikelihoodEstimator\n",
    "from pgmpy.inference import VariableElimination\n",
    "from pgmpy.factors.discrete.DiscreteFactor import DiscreteFactor\n",
    "import matplotlib.pyplot as plt\n",
    "import seaborn as sns\n",
    "\n",
    "import pandas as pd\n",
    "import numpy as np\n",
    "\n",
    "import openai"
   ]
  },
  {
   "cell_type": "code",
   "execution_count": 2,
   "metadata": {},
   "outputs": [],
   "source": [
    "warnings.filterwarnings('ignore')"
   ]
  },
  {
   "attachments": {},
   "cell_type": "markdown",
   "metadata": {},
   "source": [
    "## Retry Decorator"
   ]
  },
  {
   "cell_type": "code",
   "execution_count": 3,
   "metadata": {},
   "outputs": [],
   "source": [
    "# Define a retry decorator\n",
    "def retry_with_exponential_backoff(\n",
    "    func,\n",
    "    initial_delay: float = 1,\n",
    "    exponential_base: float = 2,\n",
    "    jitter: bool = True,\n",
    "    max_retries: int = 10,\n",
    "    errors: tuple = (openai.error.RateLimitError,)\n",
    "):\n",
    "    \"\"\"\n",
    "    Retry a function with exponential backoff.\n",
    "    \"\"\"\n",
    "\n",
    "    def wrapper(*args, **kwargs):\n",
    "        # Initialize variables\n",
    "        num_retries = 0\n",
    "        delay = initial_delay\n",
    "\n",
    "        # Loop until a successful response or max_retries is hit or an exception is raised\n",
    "        while True:\n",
    "            try:\n",
    "                return func(*args, **kwargs)\n",
    "\n",
    "            # Retry on specified errors\n",
    "            except errors as e:\n",
    "                # Increment retries\n",
    "                num_retries += 1\n",
    "\n",
    "                # Check if max retries has been reached\n",
    "                if num_retries > max_retries:\n",
    "                    raise Exception(\n",
    "                        f\"Maximum number of retries ({max_retries}) exceeded.\"\n",
    "                    )\n",
    "\n",
    "                # Increment the delay\n",
    "                delay *= exponential_base * (1 + jitter * random.random())\n",
    "\n",
    "                # Sleep for the delay\n",
    "                time.sleep(delay)\n",
    "\n",
    "            # Raise exceptions for any errors not specified\n",
    "            except Exception as e:\n",
    "                raise e\n",
    "\n",
    "    return wrapper"
   ]
  },
  {
   "attachments": {},
   "cell_type": "markdown",
   "metadata": {},
   "source": [
    "## Print Full"
   ]
  },
  {
   "cell_type": "code",
   "execution_count": 4,
   "metadata": {},
   "outputs": [],
   "source": [
    "def print_full(cpd: TabularCPD) -> None:\n",
    "    \"\"\"\n",
    "    Print the full CPD table.\n",
    "\n",
    "    Parameters\n",
    "    ----------\n",
    "    cpd : TabularCPD\n",
    "        The CPD to print.\n",
    "\n",
    "    Returns\n",
    "    -------\n",
    "    None\n",
    "        CPD table is printed to stdout and no value is returned.\n",
    "    \"\"\"\n",
    "    # Temporarily change the truncation setting\n",
    "    backup = TabularCPD._truncate_strtable\n",
    "    TabularCPD._truncate_strtable = lambda self, x: x\n",
    "    print(cpd)\n",
    "    # Restore the original setting\n",
    "    TabularCPD._truncate_strtable = backup\n",
    "    \n",
    "    return None"
   ]
  },
  {
   "attachments": {},
   "cell_type": "markdown",
   "metadata": {},
   "source": [
    "## ChatGPT Class\n",
    "\n",
    "Different models:\n",
    "\n",
    "* text-davinci-002 (default): a highly capable and versatile model for natural language processing tasks, such as text completion, question answering, and summarization.\n",
    "\n",
    "* text-curie-001: a highly capable model that performs well across a wide range of natural language processing tasks, with a focus on conversational agents.\n",
    "  \n",
    "* text-babbage-001: a model that excels at text completion tasks and can generate high-quality responses to prompts related to factual information, such as encyclopedia entries and news articles.\n",
    "  \n",
    "* text-ada-001: a model that specializes in natural language processing tasks related to language translation, summarization, and question answering, with a focus on efficient computation and low latency."
   ]
  },
  {
   "cell_type": "code",
   "execution_count": 5,
   "metadata": {},
   "outputs": [
    {
     "data": {
      "text/plain": [
       "3072.75"
      ]
     },
     "execution_count": 5,
     "metadata": {},
     "output_type": "execute_result"
    }
   ],
   "source": [
    "4097 * 0.75"
   ]
  },
  {
   "cell_type": "code",
   "execution_count": 18,
   "metadata": {},
   "outputs": [],
   "source": [
    "class ChatGPT:\n",
    "    def __init__(self, api_key: str):\n",
    "        \"\"\"\n",
    "        Constructor for ChatGPT class.\n",
    "\n",
    "        Parameters\n",
    "        ----------\n",
    "        api_key : str\n",
    "            OpenAI API key.\n",
    "        \"\"\"\n",
    "        self.api_key = api_key\n",
    "        openai.api_key = self.api_key\n",
    "        self.model = \"text-davinci-003\" \n",
    "    \n",
    "    @retry_with_exponential_backoff\n",
    "    def ask(self, prompt: str) -> str:\n",
    "        \"\"\"\n",
    "        Prompt the model with a question.\n",
    "\n",
    "        Parameters\n",
    "        ----------\n",
    "        prompt : str\n",
    "            The prompt to ask the model.\n",
    "\n",
    "        Returns\n",
    "        -------\n",
    "        str\n",
    "            The model's response.\n",
    "        \"\"\"\n",
    "        response = openai.Completion.create(\n",
    "            model=self.model,\n",
    "            prompt=prompt,\n",
    "            max_tokens=2048,\n",
    "            temperature=0.7,\n",
    "            n=1,\n",
    "            stop=None\n",
    "        )\n",
    "        message = response.choices[0].text.strip()\n",
    "        return message"
   ]
  },
  {
   "attachments": {},
   "cell_type": "markdown",
   "metadata": {},
   "source": [
    "### Tests"
   ]
  },
  {
   "cell_type": "code",
   "execution_count": 19,
   "metadata": {},
   "outputs": [],
   "source": [
    "chatbot = ChatGPT(os.environ[\"OPENAI_API_KEY\"])"
   ]
  },
  {
   "cell_type": "code",
   "execution_count": 20,
   "metadata": {},
   "outputs": [
    {
     "name": "stdout",
     "output_type": "stream",
     "text": [
      "I'm doing great, thank you for asking. How can I help you?\n"
     ]
    }
   ],
   "source": [
    "prompt_1 = \"\"\"Hello Chatbot, how are you?\"\"\"\n",
    "\n",
    "response_1 = chatbot.ask(prompt_1)\n",
    "\n",
    "print(response_1)"
   ]
  },
  {
   "cell_type": "code",
   "execution_count": null,
   "metadata": {},
   "outputs": [
    {
     "name": "stdout",
     "output_type": "stream",
     "text": [
      "creation code.\n",
      "\n",
      "from pgmpy.models import BayesianModel \n",
      "\n",
      "# Create the Bayesian model\n",
      "model = BayesianModel([('Trigger: Event', 'Risk Event: Supply Disruption'),\n",
      "                       ('Risk Event: Supply Disruption', 'Consequence: Damage'),\n",
      "                       ('Mitigator: Response', 'Consequence: Damage'),\n",
      "                       ('Control: Diversify Suppliers', 'Risk Event: Supply Disruption')])\n"
     ]
    }
   ],
   "source": [
    "edges = [('Risk Event: Supply Disruption', 'Consequence: Damage'), ('Mitigator: Response', 'Consequence: Damage'), ('Trigger: Event', 'Risk Event: Supply Disruption'), ('Control: Diversify Suppliers', 'Risk Event: Supply Disruption')]\n",
    "\n",
    "prompt_2 = f'Given me the code that creates a Bayesian network using the pgmpy python package with the following: {edges}. Do not include the TabularCPD. Just give me the model.'\n",
    "\n",
    "response_2 = chatbot.ask(prompt_2)\n",
    "\n",
    "print(response_2)"
   ]
  },
  {
   "cell_type": "code",
   "execution_count": 13,
   "metadata": {},
   "outputs": [
    {
     "data": {
      "text/plain": [
       "\"creation code.\\n\\nfrom pgmpy.models import BayesianModel \\n\\n# Create the Bayesian model\\nmodel = BayesianModel([('Trigger: Event', 'Risk Event: Supply Disruption'),\\n                       ('Risk Event: Supply Disruption', 'Consequence: Damage'),\\n                       ('Mitigator: Response', 'Consequence: Damage'),\\n                       ('Control: Diversify Suppliers', 'Risk Event: Supply Disruption')])\""
      ]
     },
     "execution_count": 13,
     "metadata": {},
     "output_type": "execute_result"
    }
   ],
   "source": [
    "# Parse the string to get the model\n",
    "response_2"
   ]
  },
  {
   "cell_type": "code",
   "execution_count": 15,
   "metadata": {},
   "outputs": [
    {
     "data": {
      "text/plain": [
       "Text(0.5, 1.0, 'Final Model Specification')"
      ]
     },
     "execution_count": 15,
     "metadata": {},
     "output_type": "execute_result"
    },
    {
     "data": {
      "image/png": "[encoded data removed]",
      "text/plain": [
       "<Figure size 500x400 with 1 Axes>"
      ]
     },
     "metadata": {},
     "output_type": "display_data"
    }
   ],
   "source": [
    "from pgmpy.models import BayesianModel \n",
    "\n",
    "# Create the Bayesian model\n",
    "model = BayesianModel([('Trigger: Event', 'Risk Event: Supply Disruption'),\n",
    "                       ('Risk Event: Supply Disruption', 'Consequence: Damage'),\n",
    "                       ('Mitigator: Response', 'Consequence: Damage'),\n",
    "                       ('Control: Diversify Suppliers', 'Risk Event: Supply Disruption')])\n",
    "\n",
    "ax = model.to_daft().render()\n",
    "ax.figure.set_size_inches(5, 4)\n",
    "ax.set_title('Final Model Specification', fontsize=15)"
   ]
  },
  {
   "attachments": {},
   "cell_type": "markdown",
   "metadata": {},
   "source": [
    "### Example Prompt for User (Expert)"
   ]
  },
  {
   "cell_type": "code",
   "execution_count": 16,
   "metadata": {},
   "outputs": [
    {
     "data": {
      "text/plain": [
       "{'low': 0.25, 'medium': 0.5, 'high': 0.8}"
      ]
     },
     "execution_count": 16,
     "metadata": {},
     "output_type": "execute_result"
    }
   ],
   "source": [
    "\"what do you think is the risk associated with the following activity 'feature complete': low, medium, or high?\"\n",
    "\n",
    "response_mapping = {\n",
    "    'low': 0.25,\n",
    "    'medium': 0.5,\n",
    "    'high': 0.8\n",
    "}\n",
    "\n",
    "response_mapping"
   ]
  },
  {
   "attachments": {},
   "cell_type": "markdown",
   "metadata": {},
   "source": [
    "### Example Duration Mapping"
   ]
  },
  {
   "cell_type": "code",
   "execution_count": 17,
   "metadata": {},
   "outputs": [
    {
     "data": {
      "text/plain": [
       "{'less than 10': 0, '10-20': 1, '20-30': 2, '30-40': 3, '40-50': 4}"
      ]
     },
     "execution_count": 17,
     "metadata": {},
     "output_type": "execute_result"
    }
   ],
   "source": [
    "durations = ['less than 10', '10-20', '20-30', '30-40', '40-50']\n",
    "\n",
    "{k:v for k,v in zip(durations, range(len(durations)))}"
   ]
  }
 ],
 "metadata": {
  "kernelspec": {
   "display_name": "python_for_bayesian",
   "language": "python",
   "name": "python3"
  },
  "language_info": {
   "codemirror_mode": {
    "name": "ipython",
    "version": 3
   },
   "file_extension": ".py",
   "mimetype": "text/x-python",
   "name": "python",
   "nbconvert_exporter": "python",
   "pygments_lexer": "ipython3",
   "version": "3.10.0"
  },
  "orig_nbformat": 4
 },
 "nbformat": 4,
 "nbformat_minor": 2
}
